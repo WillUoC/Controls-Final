{
 "cells": [
  {
   "cell_type": "markdown",
   "metadata": {},
   "source": [
    "# Dynamics Derivation for Quad Rotor\n",
    "## By William Black, Mahala Peters, Alexis Whitaker, Brynn Giffin, and Brice Hall"
   ]
  },
  {
   "cell_type": "markdown",
   "metadata": {},
   "source": [
    "## Setup"
   ]
  },
  {
   "cell_type": "code",
   "execution_count": 33,
   "metadata": {},
   "outputs": [],
   "source": [
    "import sympy as sym\n",
    "from sympy.physics.mechanics import *\n",
    "\n",
    "init_vprinting()"
   ]
  },
  {
   "cell_type": "markdown",
   "metadata": {},
   "source": [
    "## Calculate Dynamics"
   ]
  },
  {
   "cell_type": "markdown",
   "metadata": {},
   "source": [
    "### Calculate Kinetic and Potential Energy"
   ]
  },
  {
   "cell_type": "code",
   "execution_count": 34,
   "metadata": {},
   "outputs": [
    {
     "data": {
      "image/png": "[encoded data removed]",
      "text/latex": [
       "$\\displaystyle \\left[\\begin{matrix}\\frac{\\left(J_{c} + 2 d^{2} m_{M}\\right) \\dot{\\alpha}^{2}}{2} + \\frac{\\left(J_{c} + 2 d^{2} m_{M}\\right) \\dot{\\theta}^{2}}{2} + \\frac{\\left(J_{c} + 4 d^{2} m_{M}\\right) \\dot{\\psi}^{2}}{2} + \\frac{\\left(4 m_{M} + m_{c}\\right) \\left(\\dot{x}^{2} + \\dot{y}^{2} + \\dot{z}^{2}\\right)}{2}\\end{matrix}\\right]$"
      ],
      "text/plain": [
       "⎡⎛         2    ⎞  2   ⎛         2    ⎞  2   ⎛         2    ⎞  2              \n",
       "⎢⎝J_c + 2⋅d ⋅m_M⎠⋅α̇    ⎝J_c + 2⋅d ⋅m_M⎠⋅θ̇    ⎝J_c + 4⋅d ⋅m_M⎠⋅ψ̇    (4⋅m_M +\n",
       "⎢─────────────────── + ─────────────────── + ─────────────────── + ───────────\n",
       "⎣         2                     2                     2                       \n",
       "\n",
       "   ⎛ 2    2    2⎞⎤\n",
       " m_c)⋅⎝ẋ  + ẏ  + ż ⎠⎥\n",
       "─────────────────⎥\n",
       "  2              ⎦"
      ]
     },
     "metadata": {},
     "output_type": "display_data"
    },
    {
     "data": {
      "image/png": "[encoded data removed]",
      "text/latex": [
       "$\\displaystyle g \\left(4 m_{M} + m_{c}\\right) z$"
      ],
      "text/plain": [
       "g⋅(4⋅m_M + m_c)⋅z"
      ]
     },
     "metadata": {},
     "output_type": "display_data"
    }
   ],
   "source": [
    "t = sym.symbols(\"t\")\n",
    "x, y, z, alpha, theta, psi = dynamicsymbols(\"x, y, z, alpha, theta, psi\")\n",
    "xdot, ydot, zdot, alphadot, thetadot, psidot = sym.diff(sym.Matrix([x, y, z, alpha, theta, psi]), t)\n",
    "mc, m1, m2, m3, m4, mm, d = sym.symbols(\"m_c, m_1, m_2, m_3, m_4, m_M, d\")\n",
    "Jc = sym.symbols('J_c')\n",
    "g = sym.symbols(\"g\")\n",
    "\n",
    "m1 = mm\n",
    "m2 = mm\n",
    "m3 = mm\n",
    "m4 = mm\n",
    "\n",
    "R_roll = sym.Matrix([\n",
    "    [1, 0, 0],\n",
    "    [0, sym.cos(theta), sym.sin(theta)],\n",
    "    [0, -sym.sin(theta), sym.cos(theta)]\n",
    "])\n",
    "\n",
    "R_pitch = sym.Matrix([\n",
    "    [sym.cos(alpha), 0, -sym.sin(alpha)],\n",
    "    [0, 1, 0],\n",
    "    [sym.sin(alpha), 0, sym.cos(alpha)]\n",
    "])\n",
    "\n",
    "R_yaw = sym.Matrix([\n",
    "    [sym.cos(psi), sym.sin(psi), 0],\n",
    "    [-sym.sin(psi), sym.cos(psi), 0],\n",
    "    [0, 0, 1]\n",
    "])\n",
    "\n",
    "R_main = R_yaw.T@R_pitch.T@R_roll.T\n",
    "\n",
    "pos_1_prime = sym.Matrix([\n",
    "    [d*sym.sqrt(2)/2],\n",
    "    [d*sym.sqrt(2)/2],\n",
    "    [0]\n",
    "])\n",
    "\n",
    "pos_2_prime = sym.Matrix([\n",
    "    [d*sym.sqrt(2)/2],\n",
    "    [-d*sym.sqrt(2)/2],\n",
    "    [0]\n",
    "])\n",
    "\n",
    "pos_3_prime = sym.Matrix([\n",
    "    [-d*sym.sqrt(2)/2],\n",
    "    [d*sym.sqrt(2)/2],\n",
    "    [0]\n",
    "])\n",
    "\n",
    "pos_4_prime = sym.Matrix([\n",
    "    [-d*sym.sqrt(2)/2],\n",
    "    [-d*sym.sqrt(2)/2],\n",
    "    [0]\n",
    "])\n",
    "\n",
    "pos_c = sym.Matrix([\n",
    "    [x],\n",
    "    [y],\n",
    "    [z]\n",
    "])\n",
    "\n",
    "vel_c = sym.diff(pos_c, t)\n",
    "\n",
    "pos_1 = R_main@pos_1_prime + pos_c\n",
    "pos_2 = R_main@pos_2_prime + pos_c\n",
    "pos_3 = R_main@pos_3_prime + pos_c\n",
    "pos_4 = R_main@pos_4_prime + pos_c\n",
    "\n",
    "\n",
    "vel_1 = sym.diff(pos_1, t)\n",
    "vel_2 = sym.diff(pos_2, t)\n",
    "vel_3 = sym.diff(pos_3, t)\n",
    "vel_4 = sym.diff(pos_4, t)\n",
    "\n",
    "rotational_velocities_prime = sym.Matrix([\n",
    "    [thetadot],\n",
    "    [alphadot],\n",
    "    [psidot]\n",
    "])\n",
    "\n",
    "rotational_velocities = rotational_velocities_prime\n",
    "\n",
    "rotational_inertias = sym.Matrix([\n",
    "    [Jc + 4*(d*sym.sqrt(2)/2)**2*mm, 0, 0],\n",
    "    [0, Jc + 4*(d*sym.sqrt(2)/2)**2*mm, 0],\n",
    "    [0, 0, Jc + 4*d**2*mm]\n",
    "    ])\n",
    "\n",
    "tke = sym.Rational(1,2)*((mc+m1+m2+m3+m4)*(vel_c.T@vel_c) + rotational_velocities.T@rotational_inertias@rotational_velocities)\n",
    "pe = (mc+m1+m2+m3+m4)*z*g\n",
    "\n",
    "\n",
    "display(sym.simplify(tke))\n",
    "display(sym.simplify(pe))"
   ]
  },
  {
   "cell_type": "code",
   "execution_count": 35,
   "metadata": {},
   "outputs": [],
   "source": [
    "def line_from_points(x1, y1, x2, y2):\n",
    "    slope = sym.Rational(y2-y1, x2-x1)\n",
    "    intercept = y1 - slope * x1\n",
    "\n",
    "    return(slope, intercept)"
   ]
  },
  {
   "cell_type": "markdown",
   "metadata": {},
   "source": [
    "### Calculate Input and Damping Matrices"
   ]
  },
  {
   "cell_type": "code",
   "execution_count": 36,
   "metadata": {},
   "outputs": [
    {
     "data": {
      "image/png": "[encoded data removed]",
      "text/latex": [
       "$\\displaystyle \\left[\\begin{matrix}\\frac{\\sqrt{2} d \\left(F_{1} - F_{2} + F_{3} - F_{4}\\right)}{2}\\\\\\frac{\\sqrt{2} d \\left(- F_{1} - F_{2} + F_{3} + F_{4}\\right)}{2}\\\\\\mu_{r} \\left(- \\omega_{1} + \\omega_{2} + \\omega_{3} - \\omega_{4}\\right)\\end{matrix}\\right]$"
      ],
      "text/plain": [
       "⎡√2⋅d⋅(F₁ - F₂ + F₃ - F₄) ⎤\n",
       "⎢──────────────────────── ⎥\n",
       "⎢           2             ⎥\n",
       "⎢                         ⎥\n",
       "⎢√2⋅d⋅(-F₁ - F₂ + F₃ + F₄)⎥\n",
       "⎢─────────────────────────⎥\n",
       "⎢            2            ⎥\n",
       "⎢                         ⎥\n",
       "⎣ μᵣ⋅(-ω₁ + ω₂ + ω₃ - ω₄) ⎦"
      ]
     },
     "metadata": {},
     "output_type": "display_data"
    },
    {
     "data": {
      "image/png": "[encoded data removed]",
      "text/latex": [
       "$\\displaystyle \\left[\\begin{matrix}F_{t} \\left(\\sin{\\left(\\alpha \\right)} \\cos{\\left(\\psi \\right)} \\cos{\\left(\\theta \\right)} + \\sin{\\left(\\psi \\right)} \\sin{\\left(\\theta \\right)}\\right)\\\\F_{t} \\left(\\sin{\\left(\\alpha \\right)} \\sin{\\left(\\psi \\right)} \\cos{\\left(\\theta \\right)} - \\sin{\\left(\\theta \\right)} \\cos{\\left(\\psi \\right)}\\right)\\\\F_{t} \\cos{\\left(\\alpha \\right)} \\cos{\\left(\\theta \\right)}\\\\\\tau_{x}\\\\\\tau_{y}\\\\\\tau_{z}\\end{matrix}\\right]$"
      ],
      "text/plain": [
       "⎡Fₜ⋅(sin(α)⋅cos(ψ)⋅cos(θ) + sin(ψ)⋅sin(θ))⎤\n",
       "⎢                                         ⎥\n",
       "⎢Fₜ⋅(sin(α)⋅sin(ψ)⋅cos(θ) - sin(θ)⋅cos(ψ))⎥\n",
       "⎢                                         ⎥\n",
       "⎢            Fₜ⋅cos(α)⋅cos(θ)             ⎥\n",
       "⎢                                         ⎥\n",
       "⎢                   τₓ                    ⎥\n",
       "⎢                                         ⎥\n",
       "⎢                   τ_y                   ⎥\n",
       "⎢                                         ⎥\n",
       "⎣                   τ_z                   ⎦"
      ]
     },
     "metadata": {},
     "output_type": "display_data"
    },
    {
     "data": {
      "image/png": "[encoded data removed]",
      "text/latex": [
       "$\\displaystyle \\left[\\begin{matrix}\\mu_{lat} & 0 & 0 & 0 & 0 & 0\\\\0 & \\mu_{lat} & 0 & 0 & 0 & 0\\\\0 & 0 & \\mu_{vert} & 0 & 0 & 0\\\\0 & 0 & 0 & 0 & 0 & 0\\\\0 & 0 & 0 & 0 & 0 & 0\\\\0 & 0 & 0 & 0 & 0 & 0\\end{matrix}\\right]$"
      ],
      "text/plain": [
       "⎡μₗₐₜ   0      0    0  0  0⎤\n",
       "⎢                          ⎥\n",
       "⎢ 0    μₗₐₜ    0    0  0  0⎥\n",
       "⎢                          ⎥\n",
       "⎢ 0     0    μᵥₑᵣₜ  0  0  0⎥\n",
       "⎢                          ⎥\n",
       "⎢ 0     0      0    0  0  0⎥\n",
       "⎢                          ⎥\n",
       "⎢ 0     0      0    0  0  0⎥\n",
       "⎢                          ⎥\n",
       "⎣ 0     0      0    0  0  0⎦"
      ]
     },
     "metadata": {},
     "output_type": "display_data"
    }
   ],
   "source": [
    "mu_r, mu_lat, mu_vert = sym.symbols(\"mu_r, mu_lat, mu_vert\")\n",
    "T1, T2, T3, T4 = sym.symbols(\"T_1, T_2, T_3, T_4\")\n",
    "F1, F2, F3, F4 = sym.symbols(\"F_1, F_2, F_3, F_4\")\n",
    "w1, w2, w3, w4 = sym.symbols(\"omega_1, omega_2, omega_3, omega_4\")\n",
    "\n",
    "Ft, tau_x, tau_y, tau_z = sym.symbols(\"F_t, tau_x, tau_y, tau_z\")\n",
    "\n",
    "\n",
    "# Throttle -> Thrust data points from table (relatively linear)\n",
    "# (0.4, 2.26)\n",
    "# (1.0, 9.122)\n",
    "\n",
    "# Throttle -> RPM (converted to rad/s) data points from table (also linear)\n",
    "# (0.4, 1900*2*sym.pi/60)\n",
    "# (1.0, 3673*2*sym.pi/60)\n",
    "\n",
    "\n",
    "# THRUST_SLOPE, THRUST_INTERCEPT = line_from_points(0.4, 2.26, 1.0, 9.122)\n",
    "# ROTATION_SLOPE, ROTATION_INTERCEPT = line_from_points(0.4, (1900*2*sym.pi/60).evalf(), 1.0, (3673*2*sym.pi/60).evalf())\n",
    "\n",
    "# F1 = THRUST_SLOPE * T1 + THRUST_INTERCEPT\n",
    "# w1 = ROTATION_SLOPE * T1 + ROTATION_INTERCEPT\n",
    "\n",
    "# F2 = THRUST_SLOPE * T2 + THRUST_INTERCEPT\n",
    "# w2 = ROTATION_SLOPE * T2 + ROTATION_INTERCEPT\n",
    "\n",
    "# F3 = THRUST_SLOPE * T3 + THRUST_INTERCEPT\n",
    "# w3 = ROTATION_SLOPE * T3 + ROTATION_INTERCEPT\n",
    "\n",
    "# F4 = THRUST_SLOPE * T4 + THRUST_INTERCEPT\n",
    "# w4 = ROTATION_SLOPE * T4 + ROTATION_INTERCEPT\n",
    "\n",
    "\n",
    "# force_inputs_prime = sym.Matrix([\n",
    "#     [0],\n",
    "#     [0],\n",
    "#     [F1 + F2 + F3 + F4],\n",
    "# ])\n",
    "\n",
    "force_inputs_prime = sym.Matrix([\n",
    "    [0],\n",
    "    [0],\n",
    "    [Ft],\n",
    "])\n",
    "\n",
    "torque_inputs_dprime = sym.Matrix([\n",
    "    [d*(F3-F2)],\n",
    "    [d*(F4-F1)],\n",
    "    [mu_r * (w2 + w3 - w1 - w4)]\n",
    "])\n",
    "\n",
    "torque_inputs_prime = sym.Matrix([\n",
    "    [tau_x],\n",
    "    [tau_y],\n",
    "    [tau_z]\n",
    "])\n",
    "\n",
    "R_diag = sym.Matrix([\n",
    "    [sym.cos(-sym.pi/4), sym.sin(-sym.pi/4), 0],\n",
    "    [-sym.sin(-sym.pi/4), sym.cos(-sym.pi/4), 0],\n",
    "    [0, 0, 1]\n",
    "])\n",
    "\n",
    "R_diag_to_vehicle = R_main\n",
    "\n",
    "display(sym.simplify(R_diag@torque_inputs_dprime))\n",
    "\n",
    "force_inputs = R_diag_to_vehicle @ force_inputs_prime\n",
    "torque_inputs = torque_inputs_prime\n",
    "\n",
    "input_matrix = force_inputs.col_join(torque_inputs)\n",
    "\n",
    "display(sym.simplify(input_matrix))\n",
    "\n",
    "damping_matrix = sym.Matrix([\n",
    "    [mu_lat, 0, 0, 0, 0, 0],\n",
    "    [0, mu_lat, 0, 0, 0, 0],\n",
    "    [0, 0, mu_vert, 0, 0, 0],\n",
    "    [0, 0, 0, 0, 0, 0],\n",
    "    [0, 0, 0, 0, 0, 0],\n",
    "    [0, 0, 0, 0, 0, 0]\n",
    "])\n",
    "\n",
    "display(damping_matrix)"
   ]
  },
  {
   "cell_type": "markdown",
   "metadata": {},
   "source": [
    "### Calculate Euler-Lagrange Equations"
   ]
  },
  {
   "cell_type": "code",
   "execution_count": 37,
   "metadata": {},
   "outputs": [
    {
     "data": {
      "image/png": "[encoded data removed]",
      "text/latex": [
       "$\\displaystyle \\frac{\\left(J_{c} + 2 d^{2} m_{M}\\right) \\dot{\\alpha}^{2}}{2} + \\frac{\\left(J_{c} + 2 d^{2} m_{M}\\right) \\dot{\\theta}^{2}}{2} + \\frac{\\left(J_{c} + 4 d^{2} m_{M}\\right) \\dot{\\psi}^{2}}{2} + \\frac{\\left(4 m_{M} + m_{c}\\right) \\left(\\dot{x}^{2} + \\dot{y}^{2} + \\dot{z}^{2}\\right)}{2}$"
      ],
      "text/plain": [
       "⎛         2    ⎞  2   ⎛         2    ⎞  2   ⎛         2    ⎞  2               \n",
       "⎝J_c + 2⋅d ⋅m_M⎠⋅α̇    ⎝J_c + 2⋅d ⋅m_M⎠⋅θ̇    ⎝J_c + 4⋅d ⋅m_M⎠⋅ψ̇    (4⋅m_M + \n",
       "─────────────────── + ─────────────────── + ─────────────────── + ────────────\n",
       "         2                     2                     2                        \n",
       "\n",
       "  ⎛ 2    2    2⎞\n",
       "m_c)⋅⎝ẋ  + ẏ  + ż ⎠\n",
       "────────────────\n",
       " 2              "
      ]
     },
     "metadata": {},
     "output_type": "display_data"
    },
    {
     "data": {
      "image/png": "[encoded data removed]",
      "text/latex": [
       "$\\displaystyle g \\left(4 m_{M} + m_{c}\\right) z$"
      ],
      "text/plain": [
       "g⋅(4⋅m_M + m_c)⋅z"
      ]
     },
     "metadata": {},
     "output_type": "display_data"
    },
    {
     "data": {
      "image/png": "[encoded data removed]",
      "text/latex": [
       "$\\displaystyle \\left[\\begin{matrix}\\left(4 m_{M} + m_{c}\\right) \\ddot{x}\\\\\\left(4 m_{M} + m_{c}\\right) \\ddot{y}\\\\4 g m_{M} + g m_{c} + 4 m_{M} \\ddot{z} + m_{c} \\ddot{z}\\\\\\left(J_{c} + 2 d^{2} m_{M}\\right) \\ddot{\\theta}\\\\\\left(J_{c} + 2 d^{2} m_{M}\\right) \\ddot{\\alpha}\\\\\\left(J_{c} + 4 d^{2} m_{M}\\right) \\ddot{\\psi}\\end{matrix}\\right]$"
      ],
      "text/plain": [
       "⎡         (4⋅m_M + m_c)⋅ẍ         ⎤\n",
       "⎢                                 ⎥\n",
       "⎢         (4⋅m_M + m_c)⋅ÿ         ⎥\n",
       "⎢                                 ⎥\n",
       "⎢4⋅g⋅m_M + g⋅m_c + 4⋅m_M⋅z̈ + m_c⋅z̈⎥\n",
       "⎢                                 ⎥\n",
       "⎢       ⎛         2    ⎞          ⎥\n",
       "⎢       ⎝J_c + 2⋅d ⋅m_M⎠⋅θ̈        ⎥\n",
       "⎢                                 ⎥\n",
       "⎢       ⎛         2    ⎞          ⎥\n",
       "⎢       ⎝J_c + 2⋅d ⋅m_M⎠⋅α̈        ⎥\n",
       "⎢                                 ⎥\n",
       "⎢       ⎛         2    ⎞          ⎥\n",
       "⎣       ⎝J_c + 4⋅d ⋅m_M⎠⋅ψ̈        ⎦"
      ]
     },
     "metadata": {},
     "output_type": "display_data"
    },
    {
     "data": {
      "image/png": "[encoded data removed]",
      "text/latex": [
       "$\\displaystyle \\left[\\begin{matrix}F_{t} \\sin{\\left(\\alpha \\right)} \\cos{\\left(\\psi \\right)} \\cos{\\left(\\theta \\right)} + F_{t} \\sin{\\left(\\psi \\right)} \\sin{\\left(\\theta \\right)} - \\mu_{lat} \\dot{x}\\\\F_{t} \\sin{\\left(\\alpha \\right)} \\sin{\\left(\\psi \\right)} \\cos{\\left(\\theta \\right)} - F_{t} \\sin{\\left(\\theta \\right)} \\cos{\\left(\\psi \\right)} - \\mu_{lat} \\dot{y}\\\\F_{t} \\cos{\\left(\\alpha \\right)} \\cos{\\left(\\theta \\right)} - \\mu_{vert} \\dot{z}\\\\\\tau_{x}\\\\\\tau_{y}\\\\\\tau_{z}\\end{matrix}\\right]$"
      ],
      "text/plain": [
       "⎡Fₜ⋅sin(α)⋅cos(ψ)⋅cos(θ) + Fₜ⋅sin(ψ)⋅sin(θ) - μₗₐₜ⋅ẋ⎤\n",
       "⎢                                                   ⎥\n",
       "⎢Fₜ⋅sin(α)⋅sin(ψ)⋅cos(θ) - Fₜ⋅sin(θ)⋅cos(ψ) - μₗₐₜ⋅ẏ⎥\n",
       "⎢                                                   ⎥\n",
       "⎢            Fₜ⋅cos(α)⋅cos(θ) - μᵥₑᵣₜ⋅ż             ⎥\n",
       "⎢                                                   ⎥\n",
       "⎢                        τₓ                         ⎥\n",
       "⎢                                                   ⎥\n",
       "⎢                        τ_y                        ⎥\n",
       "⎢                                                   ⎥\n",
       "⎣                        τ_z                        ⎦"
      ]
     },
     "metadata": {},
     "output_type": "display_data"
    }
   ],
   "source": [
    "display(tke[0])\n",
    "display(pe)\n",
    "\n",
    "lagrange = tke[0] - pe\n",
    "\n",
    "q = sym.Matrix([\n",
    "    [x],\n",
    "    [y],\n",
    "    [z],\n",
    "    [theta],\n",
    "    [alpha],\n",
    "    [psi]\n",
    "])\n",
    "\n",
    "qdot = sym.diff(q, t)\n",
    "\n",
    "EL_lhs = sym.diff(sym.diff(lagrange, qdot), t) - sym.diff(lagrange, q)\n",
    "\n",
    "EL_rhs = sym.ImmutableDenseMatrix(input_matrix - damping_matrix@qdot)\n",
    "\n",
    "EL_lhs = sym.MutableDenseMatrix(sym.simplify(EL_lhs.cancel()))\n",
    "EL_rhs = sym.MutableDenseMatrix(sym.simplify(EL_rhs.cancel()))\n",
    "\n",
    "display(EL_lhs)\n",
    "display(EL_rhs)"
   ]
  },
  {
   "cell_type": "markdown",
   "metadata": {},
   "source": [
    "### Euler-Lagrange to Matrix Form"
   ]
  },
  {
   "cell_type": "code",
   "execution_count": 38,
   "metadata": {},
   "outputs": [
    {
     "data": {
      "image/png": "[encoded data removed]",
      "text/latex": [
       "$\\displaystyle \\left[\\begin{matrix}4 m_{M} \\ddot{x} + m_{c} \\ddot{x}\\\\4 m_{M} \\ddot{y} + m_{c} \\ddot{y}\\\\4 g m_{M} + g m_{c} + 4 m_{M} \\ddot{z} + m_{c} \\ddot{z}\\\\J_{c} \\ddot{\\theta} + 2 d^{2} m_{M} \\ddot{\\theta}\\\\J_{c} \\ddot{\\alpha} + 2 d^{2} m_{M} \\ddot{\\alpha}\\\\J_{c} \\ddot{\\psi} + 4 d^{2} m_{M} \\ddot{\\psi}\\end{matrix}\\right]$"
      ],
      "text/plain": [
       "⎡         4⋅m_M⋅ẍ + m_c⋅ẍ         ⎤\n",
       "⎢                                 ⎥\n",
       "⎢         4⋅m_M⋅ÿ + m_c⋅ÿ         ⎥\n",
       "⎢                                 ⎥\n",
       "⎢4⋅g⋅m_M + g⋅m_c + 4⋅m_M⋅z̈ + m_c⋅z̈⎥\n",
       "⎢                                 ⎥\n",
       "⎢                  2              ⎥\n",
       "⎢       J_c⋅θ̈ + 2⋅d ⋅m_M⋅θ̈        ⎥\n",
       "⎢                                 ⎥\n",
       "⎢                  2              ⎥\n",
       "⎢       J_c⋅α̈ + 2⋅d ⋅m_M⋅α̈        ⎥\n",
       "⎢                                 ⎥\n",
       "⎢                  2              ⎥\n",
       "⎣       J_c⋅ψ̈ + 4⋅d ⋅m_M⋅ψ̈        ⎦"
      ]
     },
     "metadata": {},
     "output_type": "display_data"
    },
    {
     "name": "stdout",
     "output_type": "stream",
     "text": [
      "Remainder Matrix\n"
     ]
    },
    {
     "data": {
      "image/png": "[encoded data removed]",
      "text/latex": [
       "$\\displaystyle \\left[\\begin{matrix}0\\\\0\\\\4 g m_{M} + g m_{c}\\\\0\\\\0\\\\0\\end{matrix}\\right]$"
      ],
      "text/plain": [
       "⎡       0       ⎤\n",
       "⎢               ⎥\n",
       "⎢       0       ⎥\n",
       "⎢               ⎥\n",
       "⎢4⋅g⋅m_M + g⋅m_c⎥\n",
       "⎢               ⎥\n",
       "⎢       0       ⎥\n",
       "⎢               ⎥\n",
       "⎢       0       ⎥\n",
       "⎢               ⎥\n",
       "⎣       0       ⎦"
      ]
     },
     "metadata": {},
     "output_type": "display_data"
    },
    {
     "name": "stdout",
     "output_type": "stream",
     "text": [
      "Euler Lagrange Matrices\n",
      " simplifying...\n"
     ]
    },
    {
     "data": {
      "image/png": "[encoded data removed]",
      "text/latex": [
       "$\\displaystyle \\left[\\begin{matrix}F_{t} \\sin{\\left(\\alpha \\right)} \\cos{\\left(\\psi \\right)} \\cos{\\left(\\theta \\right)} + F_{t} \\sin{\\left(\\psi \\right)} \\sin{\\left(\\theta \\right)} - \\mu_{lat} \\dot{x}\\\\F_{t} \\sin{\\left(\\alpha \\right)} \\sin{\\left(\\psi \\right)} \\cos{\\left(\\theta \\right)} - F_{t} \\sin{\\left(\\theta \\right)} \\cos{\\left(\\psi \\right)} - \\mu_{lat} \\dot{y}\\\\F_{t} \\cos{\\left(\\alpha \\right)} \\cos{\\left(\\theta \\right)} - 4 g m_{M} - g m_{c} - \\mu_{vert} \\dot{z}\\\\\\tau_{x}\\\\\\tau_{y}\\\\\\tau_{z}\\end{matrix}\\right] = \\left[\\begin{matrix}4 m_{M} + m_{c} & 0 & 0 & 0 & 0 & 0\\\\0 & 4 m_{M} + m_{c} & 0 & 0 & 0 & 0\\\\0 & 0 & 4 m_{M} + m_{c} & 0 & 0 & 0\\\\0 & 0 & 0 & J_{c} + 2 d^{2} m_{M} & 0 & 0\\\\0 & 0 & 0 & 0 & J_{c} + 2 d^{2} m_{M} & 0\\\\0 & 0 & 0 & 0 & 0 & J_{c} + 4 d^{2} m_{M}\\end{matrix}\\right] \\left[\\begin{matrix}\\ddot{x}\\\\\\ddot{y}\\\\\\ddot{z}\\\\\\ddot{\\theta}\\\\\\ddot{\\alpha}\\\\\\ddot{\\psi}\\end{matrix}\\right]$"
      ],
      "text/plain": [
       "                                                        ⎡4⋅m_M + m_c       0  \n",
       "                                                        ⎢                     \n",
       "⎡Fₜ⋅sin(α)⋅cos(ψ)⋅cos(θ) + Fₜ⋅sin(ψ)⋅sin(θ) - μₗₐₜ⋅ẋ⎤   ⎢     0       4⋅m_M +\n",
       "⎢                                                   ⎥   ⎢                     \n",
       "⎢Fₜ⋅sin(α)⋅sin(ψ)⋅cos(θ) - Fₜ⋅sin(θ)⋅cos(ψ) - μₗₐₜ⋅ẏ⎥   ⎢     0            0 \n",
       "⎢                                                   ⎥   ⎢                     \n",
       "⎢   Fₜ⋅cos(α)⋅cos(θ) - 4⋅g⋅m_M - g⋅m_c - μᵥₑᵣₜ⋅ż    ⎥   ⎢                    \n",
       "⎢                                                   ⎥ = ⎢     0            0  \n",
       "⎢                        τₓ                         ⎥   ⎢                     \n",
       "⎢                                                   ⎥   ⎢                     \n",
       "⎢                        τ_y                        ⎥   ⎢     0            0  \n",
       "⎢                                                   ⎥   ⎢                     \n",
       "⎣                        τ_z                        ⎦   ⎢                     \n",
       "                                                        ⎣     0            0  \n",
       "\n",
       "          0             0               0               0       ⎤    \n",
       "                                                                ⎥    \n",
       " m_c       0             0               0               0       ⎥ ⎡ẍ⎤\n",
       "                                                                ⎥ ⎢ ⎥\n",
       "      4⋅m_M + m_c        0               0               0       ⎥ ⎢ÿ⎥\n",
       "                                                                ⎥ ⎢ ⎥\n",
       "                            2                                    ⎥ ⎢z̈⎥\n",
       "          0       J_c + 2⋅d ⋅m_M        0               0       ⎥⋅⎢ ⎥\n",
       "                                                                ⎥ ⎢θ̈⎥\n",
       "                                           2                    ⎥ ⎢ ⎥\n",
       "          0             0         J_c + 2⋅d ⋅m_M        0       ⎥ ⎢α̈⎥\n",
       "                                                                ⎥ ⎢ ⎥\n",
       "                                                           2    ⎥ ⎣ψ̈⎦\n",
       "          0             0               0         J_c + 4⋅d ⋅m_M⎦    "
      ]
     },
     "metadata": {},
     "output_type": "display_data"
    },
    {
     "data": {
      "image/png": "[encoded data removed]",
      "text/latex": [
       "$\\displaystyle \\tau_{x}$"
      ],
      "text/plain": [
       "τₓ"
      ]
     },
     "metadata": {},
     "output_type": "display_data"
    },
    {
     "data": {
      "image/png": "[encoded data removed]",
      "text/latex": [
       "$\\displaystyle \\tau_{y}$"
      ],
      "text/plain": [
       "τ_y"
      ]
     },
     "metadata": {},
     "output_type": "display_data"
    },
    {
     "data": {
      "image/png": "[encoded data removed]",
      "text/latex": [
       "$\\displaystyle \\tau_{z}$"
      ],
      "text/plain": [
       "τ_z"
      ]
     },
     "metadata": {},
     "output_type": "display_data"
    },
    {
     "name": "stdout",
     "output_type": "stream",
     "text": [
      "Equations of Motion\n"
     ]
    },
    {
     "data": {
      "image/png": "[encoded data removed]",
      "text/latex": [
       "$\\displaystyle \\left[\\begin{matrix}\\frac{F_{t} \\sin{\\left(\\alpha \\right)} \\cos{\\left(\\psi \\right)} \\cos{\\left(\\theta \\right)} + F_{t} \\sin{\\left(\\psi \\right)} \\sin{\\left(\\theta \\right)} - \\mu_{lat} \\dot{x}}{4 m_{M} + m_{c}}\\\\\\frac{F_{t} \\sin{\\left(\\alpha \\right)} \\sin{\\left(\\psi \\right)} \\cos{\\left(\\theta \\right)} - F_{t} \\sin{\\left(\\theta \\right)} \\cos{\\left(\\psi \\right)} - \\mu_{lat} \\dot{y}}{4 m_{M} + m_{c}}\\\\\\frac{F_{t} \\cos{\\left(\\alpha \\right)} \\cos{\\left(\\theta \\right)} - 4 g m_{M} - g m_{c} - \\mu_{vert} \\dot{z}}{4 m_{M} + m_{c}}\\\\\\frac{\\tau_{x}}{J_{c} + 2 d^{2} m_{M}}\\\\\\frac{\\tau_{y}}{J_{c} + 2 d^{2} m_{M}}\\\\\\frac{\\tau_{z}}{J_{c} + 4 d^{2} m_{M}}\\end{matrix}\\right]$"
      ],
      "text/plain": [
       "⎡Fₜ⋅sin(α)⋅cos(ψ)⋅cos(θ) + Fₜ⋅sin(ψ)⋅sin(θ) - μₗₐₜ⋅ẋ⎤\n",
       "⎢───────────────────────────────────────────────────⎥\n",
       "⎢                    4⋅m_M + m_c                    ⎥\n",
       "⎢                                                   ⎥\n",
       "⎢Fₜ⋅sin(α)⋅sin(ψ)⋅cos(θ) - Fₜ⋅sin(θ)⋅cos(ψ) - μₗₐₜ⋅ẏ⎥\n",
       "⎢───────────────────────────────────────────────────⎥\n",
       "⎢                    4⋅m_M + m_c                    ⎥\n",
       "⎢                                                   ⎥\n",
       "⎢   Fₜ⋅cos(α)⋅cos(θ) - 4⋅g⋅m_M - g⋅m_c - μᵥₑᵣₜ⋅ż    ⎥\n",
       "⎢   ────────────────────────────────────────────    ⎥\n",
       "⎢                   4⋅m_M + m_c                     ⎥\n",
       "⎢                                                   ⎥\n",
       "⎢                        τₓ                         ⎥\n",
       "⎢                  ──────────────                   ⎥\n",
       "⎢                           2                       ⎥\n",
       "⎢                  J_c + 2⋅d ⋅m_M                   ⎥\n",
       "⎢                                                   ⎥\n",
       "⎢                       τ_y                         ⎥\n",
       "⎢                  ──────────────                   ⎥\n",
       "⎢                           2                       ⎥\n",
       "⎢                  J_c + 2⋅d ⋅m_M                   ⎥\n",
       "⎢                                                   ⎥\n",
       "⎢                       τ_z                         ⎥\n",
       "⎢                  ──────────────                   ⎥\n",
       "⎢                           2                       ⎥\n",
       "⎣                  J_c + 4⋅d ⋅m_M                   ⎦"
      ]
     },
     "metadata": {},
     "output_type": "display_data"
    }
   ],
   "source": [
    "qddot = sym.diff(qdot, t)\n",
    "\n",
    "remainder_matrix = sym.zeros(sym.shape(EL_lhs)[0], 1)\n",
    "M_matrix = sym.zeros(sym.shape(EL_lhs)[0], sym.shape(EL_lhs)[0])\n",
    "\n",
    "display(EL_lhs.expand())\n",
    "\n",
    "temp = sym.symbols(\"V_temp\")\n",
    "\n",
    "for ind, i in enumerate(EL_lhs.expand()):\n",
    "    for j in (i + temp).args:\n",
    "        flag = False\n",
    "        for indk, k in enumerate(qddot):\n",
    "            for indl, l in enumerate(find_dynamicsymbols(j)):\n",
    "                if k == l:\n",
    "                    flag = True\n",
    "                    M_matrix[indk, ind] = M_matrix[indk, ind] + j/l\n",
    "            if k in find_dynamicsymbols(j):\n",
    "                flag = True\n",
    "\n",
    "        if not flag:\n",
    "            remainder_matrix[ind] = remainder_matrix[ind] + j\n",
    "\n",
    "        #if sym.diff(qdot, t) not in j:\n",
    "            #display(j)\n",
    "\n",
    "\n",
    "\n",
    "LHS = sym.ImmutableDenseMatrix(EL_lhs - remainder_matrix).cancel()\n",
    "RHS = sym.ImmutableDenseMatrix(input_matrix - damping_matrix*qdot - remainder_matrix).subs({temp: 0}).cancel()\n",
    "\n",
    "print(\"Remainder Matrix\")\n",
    "display(remainder_matrix.subs({temp: 0}))\n",
    "\n",
    "print(\"Euler Lagrange Matrices\")\n",
    "euler_lagrange = sym.Eq(sym.MatMul(M_matrix, qddot, evaluate=False), RHS)\n",
    "\n",
    "print(\" simplifying...\")\n",
    "display(sym.simplify(euler_lagrange))\n",
    "\n",
    "M_matrix = sym.ImmutableDenseMatrix(M_matrix)\n",
    "M_matrix = sym.MutableDenseMatrix(M_matrix.cancel())\n",
    "RHS = sym.MutableDenseMatrix(RHS.cancel())\n",
    "\n",
    "display(RHS[3].collect([tau_x, tau_y, tau_z]))\n",
    "display(RHS[4].collect([tau_x, tau_y, tau_z]))\n",
    "display(RHS[5].collect([tau_x, tau_y, tau_z]))\n",
    "\n",
    "print(\"Equations of Motion\")\n",
    "eqns = M_matrix.inv()@RHS\n",
    "display(eqns)"
   ]
  },
  {
   "cell_type": "markdown",
   "metadata": {},
   "source": [
    "## Generate State-Space"
   ]
  },
  {
   "cell_type": "markdown",
   "metadata": {},
   "source": [
    "### General Algorithm"
   ]
  },
  {
   "cell_type": "code",
   "execution_count": 39,
   "metadata": {},
   "outputs": [],
   "source": [
    "def linearize_space(eqns, x, y, u, equil):\n",
    "    print(\"Equations\")\n",
    "    display(eqns)\n",
    "    \n",
    "    xdot = sym.diff(x, t)\n",
    "\n",
    "    array_half = int(sym.shape(xdot)[0]//2)\n",
    "    print(array_half)\n",
    "    for i in range(array_half):\n",
    "        print(i)\n",
    "        xdot[i+array_half]=eqns[i]\n",
    "    \n",
    "    print(\"xdot\")\n",
    "    display(sym.simplify(xdot))\n",
    "\n",
    "    # equilibrium = dict(zip(x, x_eq))\n",
    "    # equilibrium.update(dict(zip(u, u_eq)))\n",
    "    equilibrium =equil\n",
    "    \n",
    "    print(\"state & input\")\n",
    "    display(x)\n",
    "    display(u)\n",
    "\n",
    "    print(\"register & output\")\n",
    "    display(xdot)\n",
    "    display(y)\n",
    "\n",
    "    print(\"Equilibrium\")\n",
    "    display(equilibrium)\n",
    "    \n",
    "    A = xdot.jacobian(x).subs(equilibrium)\n",
    "    B = xdot.jacobian(u).subs(equilibrium)\n",
    "\n",
    "    C = y.jacobian(x).subs(equilibrium)\n",
    "    D = y.jacobian(u).subs(equilibrium)\n",
    "\n",
    "    return(A, B, C, D)"
   ]
  },
  {
   "cell_type": "markdown",
   "metadata": {},
   "source": [
    "### F -> H loop"
   ]
  },
  {
   "cell_type": "code",
   "execution_count": 49,
   "metadata": {},
   "outputs": [
    {
     "name": "stdout",
     "output_type": "stream",
     "text": [
      "z\n",
      "Equations\n"
     ]
    },
    {
     "data": {
      "image/png": "[encoded data removed]",
      "text/latex": [
       "$\\displaystyle \\left[ \\frac{\\tau_{y}}{J_{c} + 2 d^{2} m_{M}}\\right]$"
      ],
      "text/plain": [
       "⎡     τ_y      ⎤\n",
       "⎢──────────────⎥\n",
       "⎢         2    ⎥\n",
       "⎣J_c + 2⋅d ⋅m_M⎦"
      ]
     },
     "metadata": {},
     "output_type": "display_data"
    },
    {
     "name": "stdout",
     "output_type": "stream",
     "text": [
      "1\n",
      "0\n",
      "xdot\n"
     ]
    },
    {
     "data": {
      "image/png": "[encoded data removed]",
      "text/latex": [
       "$\\displaystyle \\left[\\begin{matrix}\\dot{\\psi}\\\\\\frac{\\tau_{y}}{J_{c} + 2 d^{2} m_{M}}\\end{matrix}\\right]$"
      ],
      "text/plain": [
       "⎡      ψ̇       ⎤\n",
       "⎢              ⎥\n",
       "⎢     τ_y      ⎥\n",
       "⎢──────────────⎥\n",
       "⎢         2    ⎥\n",
       "⎣J_c + 2⋅d ⋅m_M⎦"
      ]
     },
     "metadata": {},
     "output_type": "display_data"
    },
    {
     "name": "stdout",
     "output_type": "stream",
     "text": [
      "state & input\n"
     ]
    },
    {
     "data": {
      "image/png": "[encoded data removed]",
      "text/latex": [
       "$\\displaystyle \\left[\\begin{matrix}\\psi\\\\\\dot{\\psi}\\end{matrix}\\right]$"
      ],
      "text/plain": [
       "⎡ψ⎤\n",
       "⎢ ⎥\n",
       "⎣ψ̇⎦"
      ]
     },
     "metadata": {},
     "output_type": "display_data"
    },
    {
     "data": {
      "image/png": "[encoded data removed]",
      "text/latex": [
       "$\\displaystyle \\left[\\begin{matrix}\\tau_{z}\\end{matrix}\\right]$"
      ],
      "text/plain": [
       "[τ_z]"
      ]
     },
     "metadata": {},
     "output_type": "display_data"
    },
    {
     "name": "stdout",
     "output_type": "stream",
     "text": [
      "register & output\n"
     ]
    },
    {
     "data": {
      "image/png": "[encoded data removed]",
      "text/latex": [
       "$\\displaystyle \\left[\\begin{matrix}\\dot{\\psi}\\\\\\frac{\\tau_{y}}{J_{c} + 2 d^{2} m_{M}}\\end{matrix}\\right]$"
      ],
      "text/plain": [
       "⎡      ψ̇       ⎤\n",
       "⎢              ⎥\n",
       "⎢     τ_y      ⎥\n",
       "⎢──────────────⎥\n",
       "⎢         2    ⎥\n",
       "⎣J_c + 2⋅d ⋅m_M⎦"
      ]
     },
     "metadata": {},
     "output_type": "display_data"
    },
    {
     "data": {
      "image/png": "[encoded data removed]",
      "text/latex": [
       "$\\displaystyle \\left[\\begin{matrix}\\psi\\end{matrix}\\right]$"
      ],
      "text/plain": [
       "[ψ]"
      ]
     },
     "metadata": {},
     "output_type": "display_data"
    },
    {
     "name": "stdout",
     "output_type": "stream",
     "text": [
      "Equilibrium\n"
     ]
    },
    {
     "data": {
      "image/png": "[encoded data removed]",
      "text/latex": [
       "$\\displaystyle \\left\\{ F_{t} : g \\left(4 m_{M} + m_{c}\\right), \\  \\tau_{x} : 0, \\  \\tau_{y} : 0, \\  \\tau_{z} : 0, \\  \\alpha : 0, \\  \\psi : 0, \\  \\theta : 0, \\  x : 0, \\  y : 0, \\  z : 0, \\  \\dot{\\alpha} : 0, \\  \\dot{\\psi} : 0, \\  \\dot{\\theta} : 0, \\  \\dot{x} : 0, \\  \\dot{y} : 0, \\  \\dot{z} : 0\\right\\}$"
      ],
      "text/plain": [
       "{Fₜ: g⋅(4⋅m_M + m_c), τₓ: 0, τ_y: 0, τ_z: 0, α: 0, ψ: 0, θ: 0, x: 0, y: 0, z: \n",
       "0, α̇: 0, ψ̇: 0, θ̇: 0, ẋ: 0, ẏ: 0, ż: 0}"
      ]
     },
     "metadata": {},
     "output_type": "display_data"
    },
    {
     "name": "stdout",
     "output_type": "stream",
     "text": [
      "Linearized Matrices\n",
      "A\n"
     ]
    }
   ],
   "source": [
    "X = sym.Matrix([\n",
    "    [psi],\n",
    "    [psidot]\n",
    "])\n",
    "\n",
    "Y = sym.Matrix([\n",
    "    [psi]\n",
    "])\n",
    "\n",
    "U = sym.Matrix([\n",
    "    [tau_z]\n",
    "])\n",
    "\n",
    "X_eq = (0, 0,)\n",
    "U_eq = (g*mc,)\n",
    "print(type(z))\n",
    "equilibrium = {x: 0, y: 0, z: 0, xdot: 0, ydot: 0, zdot: 0, theta: 0, alpha: 0, psi: 0, thetadot: 0, alphadot: 0, psidot: 0, Ft: g*(mc + 4*mm), tau_x: 0, tau_y: 0, tau_z: 0}\n",
    "\n",
    "A, B, C, D = linearize_space([eqns[5]], X, Y, U, equilibrium)\n",
    "\n",
    "print(\"Linearized Matrices\")\n",
    "print(\"A\")\n",
    "display(sym.simplify(A))\n",
    "print(\"B\")\n",
    "display(sym.simplify(B))\n",
    "print(\"C\")\n",
    "display(sym.simplify(C))\n",
    "print(\"D\")\n",
    "display(sym.simplify(D))"
   ]
  },
  {
   "cell_type": "markdown",
   "metadata": {},
   "source": [
    "### Tau_z -> psi Loop ####"
   ]
  },
  {
   "cell_type": "code",
   "execution_count": 44,
   "metadata": {},
   "outputs": [
    {
     "data": {
      "image/png": "[encoded data removed]",
      "text/latex": [
       "$\\displaystyle \\left[ \\frac{\\tau_{x}}{J_{c} + 2 d^{2} m_{M}}, \\  \\frac{\\tau_{y}}{J_{c} + 2 d^{2} m_{M}}, \\  \\frac{\\tau_{z}}{J_{c} + 4 d^{2} m_{M}}\\right]$"
      ],
      "text/plain": [
       "⎡      τₓ             τ_y             τ_z      ⎤\n",
       "⎢──────────────, ──────────────, ──────────────⎥\n",
       "⎢         2               2               2    ⎥\n",
       "⎣J_c + 2⋅d ⋅m_M  J_c + 2⋅d ⋅m_M  J_c + 4⋅d ⋅m_M⎦"
      ]
     },
     "metadata": {},
     "output_type": "display_data"
    },
    {
     "name": "stdout",
     "output_type": "stream",
     "text": [
      "Equations\n"
     ]
    },
    {
     "data": {
      "image/png": "[encoded data removed]",
      "text/latex": [
       "$\\displaystyle \\left[ \\frac{F_{t} \\sin{\\left(\\alpha \\right)} \\sin{\\left(\\psi \\right)} \\cos{\\left(\\theta \\right)} - F_{t} \\sin{\\left(\\theta \\right)} \\cos{\\left(\\psi \\right)} - \\mu_{lat} \\dot{y}}{4 m_{M} + m_{c}}\\right]$"
      ],
      "text/plain": [
       "⎡Fₜ⋅sin(α)⋅sin(ψ)⋅cos(θ) - Fₜ⋅sin(θ)⋅cos(ψ) - μₗₐₜ⋅ẏ⎤\n",
       "⎢───────────────────────────────────────────────────⎥\n",
       "⎣                    4⋅m_M + m_c                    ⎦"
      ]
     },
     "metadata": {},
     "output_type": "display_data"
    },
    {
     "name": "stdout",
     "output_type": "stream",
     "text": [
      "1\n",
      "0\n",
      "xdot\n"
     ]
    },
    {
     "data": {
      "image/png": "[encoded data removed]",
      "text/latex": [
       "$\\displaystyle \\left[\\begin{matrix}\\dot{y}\\\\\\frac{F_{t} \\sin{\\left(\\alpha \\right)} \\sin{\\left(\\psi \\right)} \\cos{\\left(\\theta \\right)} - F_{t} \\sin{\\left(\\theta \\right)} \\cos{\\left(\\psi \\right)} - \\mu_{lat} \\dot{y}}{4 m_{M} + m_{c}}\\end{matrix}\\right]$"
      ],
      "text/plain": [
       "⎡                         ẏ                         ⎤\n",
       "⎢                                                   ⎥\n",
       "⎢Fₜ⋅sin(α)⋅sin(ψ)⋅cos(θ) - Fₜ⋅sin(θ)⋅cos(ψ) - μₗₐₜ⋅ẏ⎥\n",
       "⎢───────────────────────────────────────────────────⎥\n",
       "⎣                    4⋅m_M + m_c                    ⎦"
      ]
     },
     "metadata": {},
     "output_type": "display_data"
    },
    {
     "name": "stdout",
     "output_type": "stream",
     "text": [
      "state & input\n"
     ]
    },
    {
     "data": {
      "image/png": "[encoded data removed]",
      "text/latex": [
       "$\\displaystyle \\left[\\begin{matrix}y\\\\\\dot{y}\\end{matrix}\\right]$"
      ],
      "text/plain": [
       "⎡y⎤\n",
       "⎢ ⎥\n",
       "⎣ẏ⎦"
      ]
     },
     "metadata": {},
     "output_type": "display_data"
    },
    {
     "data": {
      "image/png": "[encoded data removed]",
      "text/latex": [
       "$\\displaystyle \\left[\\begin{matrix}\\theta\\end{matrix}\\right]$"
      ],
      "text/plain": [
       "[θ]"
      ]
     },
     "metadata": {},
     "output_type": "display_data"
    },
    {
     "name": "stdout",
     "output_type": "stream",
     "text": [
      "register & output\n"
     ]
    },
    {
     "data": {
      "image/png": "[encoded data removed]",
      "text/latex": [
       "$\\displaystyle \\left[\\begin{matrix}\\dot{y}\\\\\\frac{F_{t} \\sin{\\left(\\alpha \\right)} \\sin{\\left(\\psi \\right)} \\cos{\\left(\\theta \\right)} - F_{t} \\sin{\\left(\\theta \\right)} \\cos{\\left(\\psi \\right)} - \\mu_{lat} \\dot{y}}{4 m_{M} + m_{c}}\\end{matrix}\\right]$"
      ],
      "text/plain": [
       "⎡                         ẏ                         ⎤\n",
       "⎢                                                   ⎥\n",
       "⎢Fₜ⋅sin(α)⋅sin(ψ)⋅cos(θ) - Fₜ⋅sin(θ)⋅cos(ψ) - μₗₐₜ⋅ẏ⎥\n",
       "⎢───────────────────────────────────────────────────⎥\n",
       "⎣                    4⋅m_M + m_c                    ⎦"
      ]
     },
     "metadata": {},
     "output_type": "display_data"
    },
    {
     "data": {
      "image/png": "[encoded data removed]",
      "text/latex": [
       "$\\displaystyle \\left[\\begin{matrix}y\\end{matrix}\\right]$"
      ],
      "text/plain": [
       "[y]"
      ]
     },
     "metadata": {},
     "output_type": "display_data"
    },
    {
     "name": "stdout",
     "output_type": "stream",
     "text": [
      "Equilibrium\n"
     ]
    },
    {
     "data": {
      "image/png": "[encoded data removed]",
      "text/latex": [
       "$\\displaystyle \\left\\{ F_{t} : g \\left(4 m_{M} + m_{c}\\right), \\  \\tau_{x} : 0, \\  \\tau_{y} : 0, \\  \\tau_{z} : 0, \\  \\alpha : 0, \\  \\psi : 0, \\  \\theta : 0, \\  x : 0, \\  y : 0, \\  z : 0, \\  \\dot{\\alpha} : 0, \\  \\dot{\\psi} : 0, \\  \\dot{\\theta} : 0, \\  \\dot{x} : 0, \\  \\dot{y} : 0, \\  \\dot{z} : 0\\right\\}$"
      ],
      "text/plain": [
       "{Fₜ: g⋅(4⋅m_M + m_c), τₓ: 0, τ_y: 0, τ_z: 0, α: 0, ψ: 0, θ: 0, x: 0, y: 0, z: \n",
       "0, α̇: 0, ψ̇: 0, θ̇: 0, ẋ: 0, ẏ: 0, ż: 0}"
      ]
     },
     "metadata": {},
     "output_type": "display_data"
    },
    {
     "name": "stdout",
     "output_type": "stream",
     "text": [
      "Linearized Matrices\n",
      "A\n"
     ]
    },
    {
     "data": {
      "image/png": "[encoded data removed]",
      "text/latex": [
       "$\\displaystyle \\left[\\begin{matrix}0 & 1\\\\0 & - \\frac{\\mu_{lat}}{4 m_{M} + m_{c}}\\end{matrix}\\right]$"
      ],
      "text/plain": [
       "⎡0       1     ⎤\n",
       "⎢              ⎥\n",
       "⎢      -μₗₐₜ   ⎥\n",
       "⎢0  ───────────⎥\n",
       "⎣   4⋅m_M + m_c⎦"
      ]
     },
     "metadata": {},
     "output_type": "display_data"
    },
    {
     "name": "stdout",
     "output_type": "stream",
     "text": [
      "B\n"
     ]
    },
    {
     "data": {
      "image/png": "[encoded data removed]",
      "text/latex": [
       "$\\displaystyle \\left[\\begin{matrix}0\\\\- g\\end{matrix}\\right]$"
      ],
      "text/plain": [
       "⎡0 ⎤\n",
       "⎢  ⎥\n",
       "⎣-g⎦"
      ]
     },
     "metadata": {},
     "output_type": "display_data"
    },
    {
     "name": "stdout",
     "output_type": "stream",
     "text": [
      "C\n"
     ]
    },
    {
     "data": {
      "image/png": "[encoded data removed]",
      "text/latex": [
       "$\\displaystyle \\left[\\begin{matrix}1 & 0\\end{matrix}\\right]$"
      ],
      "text/plain": [
       "[1  0]"
      ]
     },
     "metadata": {},
     "output_type": "display_data"
    },
    {
     "name": "stdout",
     "output_type": "stream",
     "text": [
      "D\n"
     ]
    },
    {
     "data": {
      "image/png": "[encoded data removed]",
      "text/latex": [
       "$\\displaystyle \\left[\\begin{matrix}0\\end{matrix}\\right]$"
      ],
      "text/plain": [
       "[0]"
      ]
     },
     "metadata": {},
     "output_type": "display_data"
    }
   ],
   "source": [
    "X = sym.Matrix([\n",
    "    [y],\n",
    "    [ydot]\n",
    "    ])\n",
    "\n",
    "Y = sym.Matrix([\n",
    "    [y]\n",
    "    ])\n",
    "\n",
    "U = sym.Matrix([\n",
    "    [theta]\n",
    "])\n",
    "\n",
    "equilibrium = {x: 0, y: 0, z: 0, xdot: 0, ydot: 0, zdot: 0, theta: 0, alpha: 0, psi: 0, thetadot: 0, alphadot: 0, psidot: 0, Ft: g*(mc + 4*mm), tau_x: 0, tau_y: 0, tau_z: 0}\n",
    "\n",
    "display(eqns[3:6])\n",
    "A, B, C, D = linearize_space([eqns[1]], X, Y, U, equilibrium)\n",
    "\n",
    "print(\"Linearized Matrices\")\n",
    "print(\"A\")\n",
    "display(sym.simplify(A))\n",
    "print(\"B\")\n",
    "display(sym.simplify(B))\n",
    "print(\"C\")\n",
    "display(sym.simplify(C))\n",
    "print(\"D\")\n",
    "display(sym.simplify(D))"
   ]
  },
  {
   "cell_type": "code",
   "execution_count": 42,
   "metadata": {},
   "outputs": [
    {
     "data": {
      "image/png": "[encoded data removed]",
      "text/latex": [
       "$\\displaystyle \\left[\\begin{matrix}\\frac{F_{t} - 4 b_{thrust}}{4 m_{thrust}} - \\frac{\\tau_{z}}{4 m_{rot} \\mu_{r}} + \\frac{\\sqrt{2} \\tau_{x}}{4 d m_{thrust}} - \\frac{\\sqrt{2} \\tau_{y}}{4 d m_{thrust}}\\\\\\frac{F_{t} - 4 b_{thrust}}{4 m_{thrust}} + \\frac{\\tau_{z}}{4 m_{rot} \\mu_{r}} - \\frac{\\sqrt{2} \\tau_{x}}{4 d m_{thrust}} - \\frac{\\sqrt{2} \\tau_{y}}{4 d m_{thrust}}\\\\\\frac{F_{t} - 4 b_{thrust}}{4 m_{thrust}} + \\frac{\\tau_{z}}{4 m_{rot} \\mu_{r}} + \\frac{\\sqrt{2} \\tau_{x}}{4 d m_{thrust}} + \\frac{\\sqrt{2} \\tau_{y}}{4 d m_{thrust}}\\\\\\frac{F_{t} - 4 b_{thrust}}{4 m_{thrust}} - \\frac{\\tau_{z}}{4 m_{rot} \\mu_{r}} - \\frac{\\sqrt{2} \\tau_{x}}{4 d m_{thrust}} + \\frac{\\sqrt{2} \\tau_{y}}{4 d m_{thrust}}\\end{matrix}\\right]$"
      ],
      "text/plain": [
       "⎡Fₜ - 4⋅bₜₕᵣᵤₛₜ      τ_z         √2⋅τₓ         √2⋅τ_y  ⎤\n",
       "⎢────────────── - ───────── + ─────────── - ───────────⎥\n",
       "⎢  4⋅mₜₕᵣᵤₛₜ      4⋅mᵣₒₜ⋅μᵣ   4⋅d⋅mₜₕᵣᵤₛₜ   4⋅d⋅mₜₕᵣᵤₛₜ⎥\n",
       "⎢                                                      ⎥\n",
       "⎢Fₜ - 4⋅bₜₕᵣᵤₛₜ      τ_z         √2⋅τₓ         √2⋅τ_y  ⎥\n",
       "⎢────────────── + ───────── - ─────────── - ───────────⎥\n",
       "⎢  4⋅mₜₕᵣᵤₛₜ      4⋅mᵣₒₜ⋅μᵣ   4⋅d⋅mₜₕᵣᵤₛₜ   4⋅d⋅mₜₕᵣᵤₛₜ⎥\n",
       "⎢                                                      ⎥\n",
       "⎢Fₜ - 4⋅bₜₕᵣᵤₛₜ      τ_z         √2⋅τₓ         √2⋅τ_y  ⎥\n",
       "⎢────────────── + ───────── + ─────────── + ───────────⎥\n",
       "⎢  4⋅mₜₕᵣᵤₛₜ      4⋅mᵣₒₜ⋅μᵣ   4⋅d⋅mₜₕᵣᵤₛₜ   4⋅d⋅mₜₕᵣᵤₛₜ⎥\n",
       "⎢                                                      ⎥\n",
       "⎢Fₜ - 4⋅bₜₕᵣᵤₛₜ      τ_z         √2⋅τₓ         √2⋅τ_y  ⎥\n",
       "⎢────────────── - ───────── - ─────────── + ───────────⎥\n",
       "⎣  4⋅mₜₕᵣᵤₛₜ      4⋅mᵣₒₜ⋅μᵣ   4⋅d⋅mₜₕᵣᵤₛₜ   4⋅d⋅mₜₕᵣᵤₛₜ⎦"
      ]
     },
     "metadata": {},
     "output_type": "display_data"
    }
   ],
   "source": [
    "Ft, tau_x, tau_y, tau_z = sym.symbols(\"F_t, tau_x, tau_y, tau_z\")\n",
    "mt, bt = sym.symbols(\"m_thrust, b_thrust\")\n",
    "mr, br = sym.symbols(\"m_rot, b_rot\")\n",
    "t1, t2, t3, t4 = sym.symbols(\"T_1, T_2, T_3, T_4\")\n",
    "d, mu_r = sym.symbols(\"d, mu_r\")\n",
    "\n",
    "forces = sym.Matrix([\n",
    "    [Ft],\n",
    "    [tau_x],\n",
    "    [tau_y],\n",
    "    [tau_z]\n",
    "])\n",
    "\n",
    "m = sym.Matrix([\n",
    "    [mt, mt, mt, mt],\n",
    "    [d*mt*sym.sqrt(2)/2, -d*mt*sym.sqrt(2)/2, d*mt*sym.sqrt(2)/2, -d*mt*sym.sqrt(2)/2],\n",
    "    [-d*mt*sym.sqrt(2)/2, -d*mt*sym.sqrt(2)/2, d*mt*sym.sqrt(2)/2, d*mt*sym.sqrt(2)/2],\n",
    "    [-mu_r*mr, mu_r*mr, mu_r*mr, -mu_r*mr]\n",
    "])\n",
    "\n",
    "b = sym.Matrix([\n",
    "    [4*bt],\n",
    "    [0],\n",
    "    [0],\n",
    "    [0]\n",
    "])\n",
    "\n",
    "display(m.inv()@(forces-b))"
   ]
  }
 ],
 "metadata": {
  "kernelspec": {
   "display_name": "Python 3.10.6 ('.venv': venv)",
   "language": "python",
   "name": "python3"
  },
  "language_info": {
   "codemirror_mode": {
    "name": "ipython",
    "version": 3
   },
   "file_extension": ".py",
   "mimetype": "text/x-python",
   "name": "python",
   "nbconvert_exporter": "python",
   "pygments_lexer": "ipython3",
   "version": "3.10.6"
  },
  "orig_nbformat": 4,
  "vscode": {
   "interpreter": {
    "hash": "a8229fe35745808a2cc33120d43fac68c242bdb857e18d040ba60ab0a2d76c0f"
   }
  }
 },
 "nbformat": 4,
 "nbformat_minor": 2
}
